{
 "cells": [
  {
   "cell_type": "code",
   "execution_count": 2,
   "metadata": {},
   "outputs": [],
   "source": [
    "#this program is used to send same message to multiple users\n",
    "from selenium import webdriver\n",
    "import time\n",
    "chrome_browser= webdriver.Chrome(executable_path='C:/chromedriver')\n",
    "chrome_browser.get('https://web.whatsapp.com/')\n",
    "time.sleep(15)\n",
    "\n",
    "user_name_list= [\"WhatsApp Bot\",\"Myself\"]\n",
    "for user_name in user_name_list:\n",
    " user=chrome_browser.find_element_by_xpath('//span[@title=\"{}\"]'.format(user_name))\n",
    " user.click()\n",
    "\n",
    " message_box = chrome_browser.find_element_by_xpath('//div[@class=\"_3uMse\"]')\n",
    " message_box.send_keys('Happy diwali to you and your family')\n",
    "\n",
    " message_box=chrome_browser.find_element_by_xpath('//button[@class=\"_1U1xa\"]')\n",
    " message_box.click()\n",
    "\n"
   ]
  },
  {
   "cell_type": "code",
   "execution_count": null,
   "metadata": {},
   "outputs": [],
   "source": []
  },
  {
   "cell_type": "code",
   "execution_count": null,
   "metadata": {},
   "outputs": [],
   "source": []
  },
  {
   "cell_type": "code",
   "execution_count": null,
   "metadata": {},
   "outputs": [],
   "source": []
  }
 ],
 "metadata": {
  "kernelspec": {
   "display_name": "Python 3",
   "language": "python",
   "name": "python3"
  },
  "language_info": {
   "codemirror_mode": {
    "name": "ipython",
    "version": 3
   },
   "file_extension": ".py",
   "mimetype": "text/x-python",
   "name": "python",
   "nbconvert_exporter": "python",
   "pygments_lexer": "ipython3",
   "version": "3.7.6"
  }
 },
 "nbformat": 4,
 "nbformat_minor": 4
}
