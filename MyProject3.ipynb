{
 "cells": [
  {
   "cell_type": "code",
   "execution_count": 2,
   "metadata": {},
   "outputs": [
    {
     "name": "stdout",
     "output_type": "stream",
     "text": [
      "Enter the name of user or group : Myself\n",
      "Enter your filepath (images/video): C:\\Users\\Dell\\Downloads\\image12.jpeg\n",
      "Enter anything after scanning QR code\n"
     ]
    }
   ],
   "source": [
    "#this program is used to send images and videos to any whatsapp contanct\n",
    "from selenium import webdriver\n",
    "from time import sleep\n",
    "\n",
    "driver= webdriver.Chrome(executable_path='C:/chromedriver')  # Change the path as per your local dir.\n",
    "driver.get('https://web.whatsapp.com/')\n",
    "\n",
    "\n",
    "name = input('Enter the name of user or group : ')\n",
    "filepath = input('Enter your filepath (images/video): ')\n",
    "\n",
    "input('Enter anything after scanning QR code')\n",
    "\n",
    "user = driver.find_element_by_xpath('//span[@title = \"{}\"]'.format(name))\n",
    "user.click()\n",
    "\n",
    "attachment_box = driver.find_element_by_xpath('//div[@title = \"Attach\"]')\n",
    "attachment_box.click()\n",
    "\n",
    "image_box = driver.find_element_by_xpath('//input[@accept=\"image/*,video/mp4,video/3gpp,video/quicktime\"]')\n",
    "image_box.send_keys(filepath)\n",
    "\n",
    "sleep(3)\n",
    "\n",
    "send_button = driver.find_element_by_xpath('//span[@data-icon=\"send\"]')\n",
    "send_button.click()"
   ]
  },
  {
   "cell_type": "code",
   "execution_count": null,
   "metadata": {},
   "outputs": [],
   "source": []
  }
 ],
 "metadata": {
  "kernelspec": {
   "display_name": "Python 3",
   "language": "python",
   "name": "python3"
  },
  "language_info": {
   "codemirror_mode": {
    "name": "ipython",
    "version": 3
   },
   "file_extension": ".py",
   "mimetype": "text/x-python",
   "name": "python",
   "nbconvert_exporter": "python",
   "pygments_lexer": "ipython3",
   "version": "3.7.6"
  }
 },
 "nbformat": 4,
 "nbformat_minor": 4
}
